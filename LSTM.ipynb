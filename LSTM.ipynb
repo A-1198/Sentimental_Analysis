{
 "cells": [
  {
   "cell_type": "code",
   "execution_count": 1,
   "id": "ec06e212-c029-4091-8f98-fc39a190c44b",
   "metadata": {},
   "outputs": [],
   "source": [
    "import pandas as pd\n",
    "import numpy as np \n",
    "import tensorflow\n",
    "from tensorflow import keras\n",
    "import re"
   ]
  },
  {
   "cell_type": "code",
   "execution_count": 2,
   "id": "2fd72bcc-1dd6-46da-99ce-3df17a231d27",
   "metadata": {},
   "outputs": [],
   "source": [
    "df = pd.read_csv('IMDB Dataset.csv')"
   ]
  },
  {
   "cell_type": "code",
   "execution_count": 3,
   "id": "187d4fb5-2571-45fb-8fab-6407bb2f1081",
   "metadata": {},
   "outputs": [
    {
     "data": {
      "text/html": [
       "<div>\n",
       "<style scoped>\n",
       "    .dataframe tbody tr th:only-of-type {\n",
       "        vertical-align: middle;\n",
       "    }\n",
       "\n",
       "    .dataframe tbody tr th {\n",
       "        vertical-align: top;\n",
       "    }\n",
       "\n",
       "    .dataframe thead th {\n",
       "        text-align: right;\n",
       "    }\n",
       "</style>\n",
       "<table border=\"1\" class=\"dataframe\">\n",
       "  <thead>\n",
       "    <tr style=\"text-align: right;\">\n",
       "      <th></th>\n",
       "      <th>review</th>\n",
       "      <th>sentiment</th>\n",
       "      <th>label</th>\n",
       "    </tr>\n",
       "  </thead>\n",
       "  <tbody>\n",
       "    <tr>\n",
       "      <th>0</th>\n",
       "      <td>One of the other reviewers has mentioned that ...</td>\n",
       "      <td>positive</td>\n",
       "      <td>1</td>\n",
       "    </tr>\n",
       "    <tr>\n",
       "      <th>1</th>\n",
       "      <td>A wonderful little production. &lt;br /&gt;&lt;br /&gt;The...</td>\n",
       "      <td>positive</td>\n",
       "      <td>1</td>\n",
       "    </tr>\n",
       "    <tr>\n",
       "      <th>2</th>\n",
       "      <td>I thought this was a wonderful way to spend ti...</td>\n",
       "      <td>positive</td>\n",
       "      <td>1</td>\n",
       "    </tr>\n",
       "    <tr>\n",
       "      <th>3</th>\n",
       "      <td>Basically there's a family where a little boy ...</td>\n",
       "      <td>negative</td>\n",
       "      <td>0</td>\n",
       "    </tr>\n",
       "    <tr>\n",
       "      <th>4</th>\n",
       "      <td>Petter Mattei's \"Love in the Time of Money\" is...</td>\n",
       "      <td>positive</td>\n",
       "      <td>1</td>\n",
       "    </tr>\n",
       "  </tbody>\n",
       "</table>\n",
       "</div>"
      ],
      "text/plain": [
       "                                              review sentiment  label\n",
       "0  One of the other reviewers has mentioned that ...  positive      1\n",
       "1  A wonderful little production. <br /><br />The...  positive      1\n",
       "2  I thought this was a wonderful way to spend ti...  positive      1\n",
       "3  Basically there's a family where a little boy ...  negative      0\n",
       "4  Petter Mattei's \"Love in the Time of Money\" is...  positive      1"
      ]
     },
     "execution_count": 3,
     "metadata": {},
     "output_type": "execute_result"
    }
   ],
   "source": [
    "df.head()"
   ]
  },
  {
   "cell_type": "code",
   "execution_count": 4,
   "id": "0586e643-dff0-4951-97a8-36dcc391c522",
   "metadata": {},
   "outputs": [],
   "source": [
    "def rem_tags(text):\n",
    "    cleaned = re.sub(\"<.*?>\",\"\",text)\n",
    "    return cleaned"
   ]
  },
  {
   "cell_type": "code",
   "execution_count": 5,
   "id": "3258bcef-1639-4d60-8f83-efa4e48e7d97",
   "metadata": {},
   "outputs": [],
   "source": [
    "df[\"review\"]=df[\"review\"].apply(rem_tags)"
   ]
  },
  {
   "cell_type": "code",
   "execution_count": 6,
   "id": "d558f14b-27d0-40c4-a619-dfe133834e13",
   "metadata": {},
   "outputs": [],
   "source": [
    "df[\"review\"]=df[\"review\"].apply(lambda x:x.lower())"
   ]
  },
  {
   "cell_type": "code",
   "execution_count": 8,
   "id": "02b7a7c7-3d8b-43cf-929f-9455e870d91c",
   "metadata": {},
   "outputs": [],
   "source": [
    "from nltk.corpus import stopwords\n",
    "\n",
    "stopwords=stopwords.words(\"english\")"
   ]
  },
  {
   "cell_type": "code",
   "execution_count": 9,
   "id": "8b0c4f04-6866-4fe1-963e-5e428b219465",
   "metadata": {},
   "outputs": [],
   "source": [
    "def rem_stopwords(text):\n",
    "    clean=[]\n",
    "    for word in text.split():\n",
    "        if word not in stopwords:\n",
    "            clean.append(word)\n",
    "    return \" \".join(clean)"
   ]
  },
  {
   "cell_type": "code",
   "execution_count": 10,
   "id": "e270e14b-1037-45b6-b460-4dfa16927856",
   "metadata": {},
   "outputs": [],
   "source": [
    "df[\"review\"]=df[\"review\"].apply(rem_stopwords)"
   ]
  },
  {
   "cell_type": "code",
   "execution_count": 11,
   "id": "e0a28b66-1c27-422e-839f-96c31492eef3",
   "metadata": {},
   "outputs": [],
   "source": [
    "df.drop_duplicates(inplace=True)"
   ]
  },
  {
   "cell_type": "code",
   "execution_count": 12,
   "id": "ca64d213-15f2-48c3-8c8f-a9c4a8548317",
   "metadata": {},
   "outputs": [
    {
     "data": {
      "text/plain": [
       "0"
      ]
     },
     "execution_count": 12,
     "metadata": {},
     "output_type": "execute_result"
    }
   ],
   "source": [
    "df.duplicated().sum()"
   ]
  },
  {
   "cell_type": "code",
   "execution_count": 13,
   "id": "03981542-4cb0-4e36-a2fd-ea0ea1cc740a",
   "metadata": {},
   "outputs": [],
   "source": [
    "df[\"review\"]=df[\"review\"].apply(lambda x : x.replace('\"',\"\"))"
   ]
  },
  {
   "cell_type": "code",
   "execution_count": 14,
   "id": "b051b48d-4403-4afb-b9b7-8d1bf018d3f4",
   "metadata": {},
   "outputs": [],
   "source": [
    "df[\"review\"]=df[\"review\"].apply(lambda x : x.replace(',',\"\"))"
   ]
  },
  {
   "cell_type": "code",
   "execution_count": 17,
   "id": "c502bca5-64b4-41ce-a8e3-18b9b3713b34",
   "metadata": {},
   "outputs": [
    {
     "name": "stdout",
     "output_type": "stream",
     "text": [
      "Defaulting to user installation because normal site-packages is not writeable\n",
      "Collecting gensim\n",
      "  Downloading gensim-4.3.2-cp311-cp311-win_amd64.whl.metadata (8.5 kB)\n",
      "Requirement already satisfied: numpy>=1.18.5 in c:\\users\\ayush raj\\appdata\\roaming\\python\\python311\\site-packages (from gensim) (1.24.3)\n",
      "Requirement already satisfied: scipy>=1.7.0 in c:\\users\\ayush raj\\appdata\\roaming\\python\\python311\\site-packages (from gensim) (1.11.2)\n",
      "Collecting smart-open>=1.8.1 (from gensim)\n",
      "  Downloading smart_open-7.0.4-py3-none-any.whl.metadata (23 kB)\n",
      "Requirement already satisfied: wrapt in c:\\users\\ayush raj\\appdata\\roaming\\python\\python311\\site-packages (from smart-open>=1.8.1->gensim) (1.15.0)\n",
      "Downloading gensim-4.3.2-cp311-cp311-win_amd64.whl (24.0 MB)\n",
      "   ---------------------------------------- 0.0/24.0 MB ? eta -:--:--\n",
      "   ---------------------------------------- 0.0/24.0 MB 1.3 MB/s eta 0:00:19\n",
      "   ---------------------------------------- 0.2/24.0 MB 3.0 MB/s eta 0:00:08\n",
      "    --------------------------------------- 0.5/24.0 MB 3.9 MB/s eta 0:00:06\n",
      "   - -------------------------------------- 0.8/24.0 MB 4.3 MB/s eta 0:00:06\n",
      "   - -------------------------------------- 1.1/24.0 MB 4.9 MB/s eta 0:00:05\n",
      "   -- ------------------------------------- 1.3/24.0 MB 4.7 MB/s eta 0:00:05\n",
      "   -- ------------------------------------- 1.5/24.0 MB 4.9 MB/s eta 0:00:05\n",
      "   -- ------------------------------------- 1.6/24.0 MB 4.5 MB/s eta 0:00:05\n",
      "   --- ------------------------------------ 1.8/24.0 MB 4.5 MB/s eta 0:00:05\n",
      "   --- ------------------------------------ 2.0/24.0 MB 4.5 MB/s eta 0:00:05\n",
      "   --- ------------------------------------ 2.2/24.0 MB 4.5 MB/s eta 0:00:05\n",
      "   --- ------------------------------------ 2.4/24.0 MB 4.3 MB/s eta 0:00:06\n",
      "   ---- ----------------------------------- 2.5/24.0 MB 4.3 MB/s eta 0:00:06\n",
      "   ---- ----------------------------------- 2.7/24.0 MB 4.2 MB/s eta 0:00:06\n",
      "   ---- ----------------------------------- 2.9/24.0 MB 4.3 MB/s eta 0:00:05\n",
      "   ----- ---------------------------------- 3.1/24.0 MB 4.2 MB/s eta 0:00:06\n",
      "   ----- ---------------------------------- 3.3/24.0 MB 4.3 MB/s eta 0:00:05\n",
      "   ----- ---------------------------------- 3.4/24.0 MB 4.2 MB/s eta 0:00:05\n",
      "   ------ --------------------------------- 3.6/24.0 MB 4.2 MB/s eta 0:00:05\n",
      "   ------ --------------------------------- 3.8/24.0 MB 4.1 MB/s eta 0:00:05\n",
      "   ------ --------------------------------- 4.0/24.0 MB 4.2 MB/s eta 0:00:05\n",
      "   ------ --------------------------------- 4.2/24.0 MB 4.1 MB/s eta 0:00:05\n",
      "   ------- -------------------------------- 4.3/24.0 MB 4.1 MB/s eta 0:00:05\n",
      "   ------- -------------------------------- 4.5/24.0 MB 4.1 MB/s eta 0:00:05\n",
      "   ------- -------------------------------- 4.7/24.0 MB 4.1 MB/s eta 0:00:05\n",
      "   -------- ------------------------------- 4.9/24.0 MB 4.1 MB/s eta 0:00:05\n",
      "   -------- ------------------------------- 5.1/24.0 MB 4.1 MB/s eta 0:00:05\n",
      "   -------- ------------------------------- 5.2/24.0 MB 4.0 MB/s eta 0:00:05\n",
      "   --------- ------------------------------ 5.4/24.0 MB 4.1 MB/s eta 0:00:05\n",
      "   --------- ------------------------------ 5.6/24.0 MB 4.0 MB/s eta 0:00:05\n",
      "   --------- ------------------------------ 5.8/24.0 MB 4.1 MB/s eta 0:00:05\n",
      "   --------- ------------------------------ 6.0/24.0 MB 4.1 MB/s eta 0:00:05\n",
      "   ---------- ----------------------------- 6.2/24.0 MB 4.1 MB/s eta 0:00:05\n",
      "   ---------- ----------------------------- 6.3/24.0 MB 4.0 MB/s eta 0:00:05\n",
      "   ---------- ----------------------------- 6.5/24.0 MB 4.0 MB/s eta 0:00:05\n",
      "   ----------- ---------------------------- 6.7/24.0 MB 4.0 MB/s eta 0:00:05\n",
      "   ----------- ---------------------------- 6.9/24.0 MB 4.0 MB/s eta 0:00:05\n",
      "   ----------- ---------------------------- 7.0/24.0 MB 4.0 MB/s eta 0:00:05\n",
      "   ------------ --------------------------- 7.2/24.0 MB 4.0 MB/s eta 0:00:05\n",
      "   ------------ --------------------------- 7.4/24.0 MB 4.0 MB/s eta 0:00:05\n",
      "   ------------ --------------------------- 7.6/24.0 MB 4.0 MB/s eta 0:00:05\n",
      "   ------------ --------------------------- 7.7/24.0 MB 4.0 MB/s eta 0:00:05\n",
      "   ------------- -------------------------- 7.9/24.0 MB 4.0 MB/s eta 0:00:05\n",
      "   ------------- -------------------------- 8.1/24.0 MB 4.0 MB/s eta 0:00:05\n",
      "   ------------- -------------------------- 8.2/24.0 MB 4.0 MB/s eta 0:00:04\n",
      "   -------------- ------------------------- 8.4/24.0 MB 4.0 MB/s eta 0:00:04\n",
      "   -------------- ------------------------- 8.6/24.0 MB 4.0 MB/s eta 0:00:04\n",
      "   -------------- ------------------------- 8.8/24.0 MB 4.0 MB/s eta 0:00:04\n",
      "   -------------- ------------------------- 9.0/24.0 MB 3.9 MB/s eta 0:00:04\n",
      "   --------------- ------------------------ 9.2/24.0 MB 4.0 MB/s eta 0:00:04\n",
      "   --------------- ------------------------ 9.3/24.0 MB 4.0 MB/s eta 0:00:04\n",
      "   --------------- ------------------------ 9.5/24.0 MB 3.9 MB/s eta 0:00:04\n",
      "   ---------------- ----------------------- 9.7/24.0 MB 3.9 MB/s eta 0:00:04\n",
      "   ---------------- ----------------------- 9.9/24.0 MB 3.9 MB/s eta 0:00:04\n",
      "   ---------------- ----------------------- 10.0/24.0 MB 3.9 MB/s eta 0:00:04\n",
      "   ----------------- ---------------------- 10.2/24.0 MB 3.9 MB/s eta 0:00:04\n",
      "   ----------------- ---------------------- 10.4/24.0 MB 4.0 MB/s eta 0:00:04\n",
      "   ----------------- ---------------------- 10.6/24.0 MB 4.0 MB/s eta 0:00:04\n",
      "   ----------------- ---------------------- 10.8/24.0 MB 3.9 MB/s eta 0:00:04\n",
      "   ------------------ --------------------- 11.0/24.0 MB 3.9 MB/s eta 0:00:04\n",
      "   ------------------ --------------------- 11.1/24.0 MB 3.9 MB/s eta 0:00:04\n",
      "   ------------------ --------------------- 11.3/24.0 MB 3.9 MB/s eta 0:00:04\n",
      "   ------------------- -------------------- 11.5/24.0 MB 3.9 MB/s eta 0:00:04\n",
      "   ------------------- -------------------- 11.7/24.0 MB 3.9 MB/s eta 0:00:04\n",
      "   ------------------- -------------------- 11.8/24.0 MB 3.8 MB/s eta 0:00:04\n",
      "   -------------------- ------------------- 12.0/24.0 MB 3.8 MB/s eta 0:00:04\n",
      "   -------------------- ------------------- 12.2/24.0 MB 3.8 MB/s eta 0:00:04\n",
      "   -------------------- ------------------- 12.4/24.0 MB 3.8 MB/s eta 0:00:04\n",
      "   -------------------- ------------------- 12.6/24.0 MB 3.8 MB/s eta 0:00:03\n",
      "   --------------------- ------------------ 12.7/24.0 MB 3.9 MB/s eta 0:00:03\n",
      "   --------------------- ------------------ 12.9/24.0 MB 3.8 MB/s eta 0:00:03\n",
      "   --------------------- ------------------ 13.1/24.0 MB 3.8 MB/s eta 0:00:03\n",
      "   ---------------------- ----------------- 13.3/24.0 MB 3.9 MB/s eta 0:00:03\n",
      "   ---------------------- ----------------- 13.5/24.0 MB 3.8 MB/s eta 0:00:03\n",
      "   ---------------------- ----------------- 13.7/24.0 MB 3.9 MB/s eta 0:00:03\n",
      "   ----------------------- ---------------- 13.9/24.0 MB 3.8 MB/s eta 0:00:03\n",
      "   ----------------------- ---------------- 14.0/24.0 MB 3.8 MB/s eta 0:00:03\n",
      "   ----------------------- ---------------- 14.2/24.0 MB 3.8 MB/s eta 0:00:03\n",
      "   ----------------------- ---------------- 14.4/24.0 MB 3.8 MB/s eta 0:00:03\n",
      "   ------------------------ --------------- 14.6/24.0 MB 3.9 MB/s eta 0:00:03\n",
      "   ------------------------ --------------- 14.8/24.0 MB 3.9 MB/s eta 0:00:03\n",
      "   ------------------------ --------------- 14.9/24.0 MB 3.9 MB/s eta 0:00:03\n",
      "   ------------------------- -------------- 15.1/24.0 MB 3.8 MB/s eta 0:00:03\n",
      "   ------------------------- -------------- 15.3/24.0 MB 3.9 MB/s eta 0:00:03\n",
      "   ------------------------- -------------- 15.5/24.0 MB 3.9 MB/s eta 0:00:03\n",
      "   -------------------------- ------------- 15.6/24.0 MB 3.9 MB/s eta 0:00:03\n",
      "   -------------------------- ------------- 15.8/24.0 MB 3.9 MB/s eta 0:00:03\n",
      "   -------------------------- ------------- 16.0/24.0 MB 3.8 MB/s eta 0:00:03\n",
      "   -------------------------- ------------- 16.2/24.0 MB 3.9 MB/s eta 0:00:03\n",
      "   --------------------------- ------------ 16.4/24.0 MB 3.9 MB/s eta 0:00:02\n",
      "   --------------------------- ------------ 16.6/24.0 MB 3.9 MB/s eta 0:00:02\n",
      "   --------------------------- ------------ 16.7/24.0 MB 3.9 MB/s eta 0:00:02\n",
      "   ---------------------------- ----------- 16.9/24.0 MB 3.9 MB/s eta 0:00:02\n",
      "   ---------------------------- ----------- 17.1/24.0 MB 3.9 MB/s eta 0:00:02\n",
      "   ---------------------------- ----------- 17.3/24.0 MB 3.9 MB/s eta 0:00:02\n",
      "   ----------------------------- ---------- 17.4/24.0 MB 3.9 MB/s eta 0:00:02\n",
      "   ----------------------------- ---------- 17.6/24.0 MB 3.9 MB/s eta 0:00:02\n",
      "   ----------------------------- ---------- 17.8/24.0 MB 3.9 MB/s eta 0:00:02\n",
      "   ----------------------------- ---------- 18.0/24.0 MB 3.9 MB/s eta 0:00:02\n",
      "   ------------------------------ --------- 18.2/24.0 MB 3.9 MB/s eta 0:00:02\n",
      "   ------------------------------ --------- 18.4/24.0 MB 3.9 MB/s eta 0:00:02\n",
      "   ------------------------------ --------- 18.5/24.0 MB 3.9 MB/s eta 0:00:02\n",
      "   ------------------------------- -------- 18.7/24.0 MB 3.9 MB/s eta 0:00:02\n",
      "   ------------------------------- -------- 18.9/24.0 MB 3.9 MB/s eta 0:00:02\n",
      "   ------------------------------- -------- 19.1/24.0 MB 3.9 MB/s eta 0:00:02\n",
      "   -------------------------------- ------- 19.3/24.0 MB 3.9 MB/s eta 0:00:02\n",
      "   -------------------------------- ------- 19.4/24.0 MB 3.9 MB/s eta 0:00:02\n",
      "   -------------------------------- ------- 19.6/24.0 MB 3.9 MB/s eta 0:00:02\n",
      "   -------------------------------- ------- 19.8/24.0 MB 3.9 MB/s eta 0:00:02\n",
      "   --------------------------------- ------ 20.0/24.0 MB 3.9 MB/s eta 0:00:02\n",
      "   --------------------------------- ------ 20.2/24.0 MB 3.9 MB/s eta 0:00:01\n",
      "   --------------------------------- ------ 20.3/24.0 MB 3.9 MB/s eta 0:00:01\n",
      "   ---------------------------------- ----- 20.6/24.0 MB 3.9 MB/s eta 0:00:01\n",
      "   ---------------------------------- ----- 20.8/24.0 MB 3.9 MB/s eta 0:00:01\n",
      "   ---------------------------------- ----- 20.9/24.0 MB 3.9 MB/s eta 0:00:01\n",
      "   ----------------------------------- ---- 21.1/24.0 MB 3.9 MB/s eta 0:00:01\n",
      "   ----------------------------------- ---- 21.3/24.0 MB 3.9 MB/s eta 0:00:01\n",
      "   ----------------------------------- ---- 21.5/24.0 MB 3.9 MB/s eta 0:00:01\n",
      "   ------------------------------------ --- 21.6/24.0 MB 3.9 MB/s eta 0:00:01\n",
      "   ------------------------------------ --- 21.8/24.0 MB 3.9 MB/s eta 0:00:01\n",
      "   ------------------------------------ --- 22.0/24.0 MB 3.9 MB/s eta 0:00:01\n",
      "   ------------------------------------ --- 22.2/24.0 MB 3.9 MB/s eta 0:00:01\n",
      "   ------------------------------------- -- 22.4/24.0 MB 3.9 MB/s eta 0:00:01\n",
      "   ------------------------------------- -- 22.4/24.0 MB 3.9 MB/s eta 0:00:01\n",
      "   ------------------------------------- -- 22.5/24.0 MB 3.9 MB/s eta 0:00:01\n",
      "   ------------------------------------- -- 22.5/24.0 MB 3.9 MB/s eta 0:00:01\n",
      "   ------------------------------------- -- 22.5/24.0 MB 3.9 MB/s eta 0:00:01\n",
      "   ------------------------------------- -- 22.5/24.0 MB 3.9 MB/s eta 0:00:01\n",
      "   ------------------------------------- -- 22.6/24.0 MB 3.6 MB/s eta 0:00:01\n",
      "   -------------------------------------- - 22.8/24.0 MB 3.6 MB/s eta 0:00:01\n",
      "   -------------------------------------- - 23.0/24.0 MB 3.6 MB/s eta 0:00:01\n",
      "   -------------------------------------- - 23.0/24.0 MB 3.6 MB/s eta 0:00:01\n",
      "   -------------------------------------- - 23.0/24.0 MB 3.6 MB/s eta 0:00:01\n",
      "   -------------------------------------- - 23.3/24.0 MB 3.5 MB/s eta 0:00:01\n",
      "   ---------------------------------------  23.5/24.0 MB 3.5 MB/s eta 0:00:01\n",
      "   ---------------------------------------  23.7/24.0 MB 3.5 MB/s eta 0:00:01\n",
      "   ---------------------------------------  24.0/24.0 MB 3.6 MB/s eta 0:00:01\n",
      "   ---------------------------------------  24.0/24.0 MB 3.6 MB/s eta 0:00:01\n",
      "   ---------------------------------------  24.0/24.0 MB 3.6 MB/s eta 0:00:01\n",
      "   ---------------------------------------- 24.0/24.0 MB 3.4 MB/s eta 0:00:00\n",
      "Downloading smart_open-7.0.4-py3-none-any.whl (61 kB)\n",
      "   ---------------------------------------- 0.0/61.2 kB ? eta -:--:--\n",
      "   ---------------------------------------- 61.2/61.2 kB 1.6 MB/s eta 0:00:00\n",
      "Installing collected packages: smart-open, gensim\n",
      "Successfully installed gensim-4.3.2 smart-open-7.0.4\n"
     ]
    }
   ],
   "source": [
    "!pip install gensim\n",
    "import gensim\n",
    "from gensim.utils import simple_preprocess\n"
   ]
  },
  {
   "cell_type": "code",
   "execution_count": 34,
   "id": "6d176480-645f-4a40-8fe0-e089fd76e38e",
   "metadata": {},
   "outputs": [],
   "source": [
    "def gensim_preprocess(text):\n",
    "    cleaned=simple_preprocess(text)\n",
    "    \n",
    "    return cleaned\n"
   ]
  },
  {
   "cell_type": "code",
   "execution_count": 19,
   "id": "cedab382-d3f0-458d-9838-3f91d002a92d",
   "metadata": {},
   "outputs": [],
   "source": [
    "df[\"review\"]=df[\"review\"].apply(gensim_preprocess)"
   ]
  },
  {
   "cell_type": "code",
   "execution_count": 20,
   "id": "47219282-7412-45d9-a09e-7160ec8fc404",
   "metadata": {},
   "outputs": [
    {
     "data": {
      "text/plain": [
       "29643    [absolutely, mesmerised, series, moment, tom, ...\n",
       "14834    [worst, movie, ever, made, anyone, asks, worst...\n",
       "19400    [said, would, film, greater, turks, fruit, dar...\n",
       "Name: review, dtype: object"
      ]
     },
     "execution_count": 20,
     "metadata": {},
     "output_type": "execute_result"
    }
   ],
   "source": [
    "df[\"review\"].sample(3)"
   ]
  },
  {
   "cell_type": "code",
   "execution_count": 21,
   "id": "00d676e7-2e45-4f53-8369-cbda4c8a1320",
   "metadata": {},
   "outputs": [],
   "source": [
    "# now tokenize\n",
    "\n",
    "from keras.preprocessing.text import Tokenizer\n",
    "\n",
    "tok=Tokenizer()"
   ]
  },
  {
   "cell_type": "code",
   "execution_count": 22,
   "id": "a1d1d432-cfc3-4442-8650-f80e9cc6fb53",
   "metadata": {},
   "outputs": [],
   "source": [
    "x=df[\"review\"]\n",
    "y=df[\"sentiment\"]"
   ]
  },
  {
   "cell_type": "code",
   "execution_count": 23,
   "id": "fe5f03a9-c5aa-4ef0-a01f-e3d05eabc446",
   "metadata": {},
   "outputs": [],
   "source": [
    "y=y.apply(lambda x: 1 if x==\"positive\" else 0)"
   ]
  },
  {
   "cell_type": "code",
   "execution_count": 24,
   "id": "50cad48a-c81b-4d03-b666-281dbf96b2ab",
   "metadata": {},
   "outputs": [],
   "source": [
    "from sklearn.model_selection import train_test_split\n",
    "\n",
    "X_train,X_test,y_train,y_test=train_test_split(x,y,test_size=0.2,random_state=1)"
   ]
  },
  {
   "cell_type": "code",
   "execution_count": 25,
   "id": "dd00c71c-a0a9-4342-89ab-fb5cbee2a57e",
   "metadata": {},
   "outputs": [],
   "source": [
    "tok.fit_on_texts(X_train)"
   ]
  },
  {
   "cell_type": "code",
   "execution_count": 26,
   "id": "57c91607-a3d9-485a-91b9-7d101676e972",
   "metadata": {},
   "outputs": [
    {
     "data": {
      "text/plain": [
       "96805"
      ]
     },
     "execution_count": 26,
     "metadata": {},
     "output_type": "execute_result"
    }
   ],
   "source": [
    "len(tok.word_index)"
   ]
  },
  {
   "cell_type": "code",
   "execution_count": 27,
   "id": "26ca1891-539e-4138-913c-144e5e99abcd",
   "metadata": {},
   "outputs": [],
   "source": [
    "X_train = tok.texts_to_sequences(X_train)\n",
    "X_test = tok.texts_to_sequences(X_test)"
   ]
  },
  {
   "cell_type": "code",
   "execution_count": 28,
   "id": "14649ba8-1682-46f9-a9be-42957a8c592b",
   "metadata": {},
   "outputs": [],
   "source": [
    "from keras.preprocessing.sequence import pad_sequences"
   ]
  },
  {
   "cell_type": "code",
   "execution_count": 29,
   "id": "7386dd50-193f-4071-aaec-bccec230c75b",
   "metadata": {},
   "outputs": [],
   "source": [
    "X_train=pad_sequences(X_train,maxlen=100,padding=\"post\")\n",
    "X_test=pad_sequences(X_test,maxlen=100,padding=\"post\")"
   ]
  },
  {
   "cell_type": "code",
   "execution_count": 30,
   "id": "f9c04155-0c83-40c8-8668-d17e1089cd3a",
   "metadata": {},
   "outputs": [],
   "source": [
    "from keras.layers import Dense,Embedding,LSTM\n",
    "from keras.models import Sequential"
   ]
  },
  {
   "cell_type": "code",
   "execution_count": 31,
   "id": "641a6d4f-fbe1-4689-b08f-edb4b6a3eeaa",
   "metadata": {},
   "outputs": [
    {
     "name": "stdout",
     "output_type": "stream",
     "text": [
      "Model: \"sequential\"\n",
      "_________________________________________________________________\n",
      " Layer (type)                Output Shape              Param #   \n",
      "=================================================================\n",
      " embedding (Embedding)       (None, 100, 100)          9680600   \n",
      "                                                                 \n",
      " lstm (LSTM)                 (None, 150)               150600    \n",
      "                                                                 \n",
      " dense (Dense)               (None, 1)                 151       \n",
      "                                                                 \n",
      "=================================================================\n",
      "Total params: 9831351 (37.50 MB)\n",
      "Trainable params: 9831351 (37.50 MB)\n",
      "Non-trainable params: 0 (0.00 Byte)\n",
      "_________________________________________________________________\n"
     ]
    }
   ],
   "source": [
    "model=Sequential()\n",
    "model.add(Embedding(input_dim=len(tok.index_word)+1, output_dim=100,input_length=100))\n",
    "model.add(LSTM(150))\n",
    "model.add(Dense(units=1, activation='sigmoid'))\n",
    "model.summary()"
   ]
  },
  {
   "cell_type": "code",
   "execution_count": 32,
   "id": "e85f51fd-6df5-4c13-bc25-5d8586a502c3",
   "metadata": {},
   "outputs": [],
   "source": [
    "model.compile(optimizer='adam', loss='binary_crossentropy', metrics=['accuracy'])"
   ]
  },
  {
   "cell_type": "code",
   "execution_count": 33,
   "id": "34575b5e-4ea7-4bb0-8594-d06875e13b75",
   "metadata": {},
   "outputs": [
    {
     "name": "stdout",
     "output_type": "stream",
     "text": [
      "Epoch 1/10\n",
      "635/635 [==============================] - 289s 445ms/step - loss: 0.4105 - accuracy: 0.8061 - val_loss: 0.3106 - val_accuracy: 0.8702\n",
      "Epoch 2/10\n",
      "635/635 [==============================] - 290s 456ms/step - loss: 0.1914 - accuracy: 0.9335 - val_loss: 0.3282 - val_accuracy: 0.8713\n",
      "Epoch 3/10\n",
      "635/635 [==============================] - 288s 453ms/step - loss: 0.0996 - accuracy: 0.9705 - val_loss: 0.3640 - val_accuracy: 0.8636\n",
      "Epoch 4/10\n",
      "635/635 [==============================] - 293s 461ms/step - loss: 0.0727 - accuracy: 0.9788 - val_loss: 0.3932 - val_accuracy: 0.8612\n",
      "Epoch 5/10\n",
      "635/635 [==============================] - 281s 442ms/step - loss: 0.0584 - accuracy: 0.9841 - val_loss: 0.4803 - val_accuracy: 0.8576\n",
      "Epoch 6/10\n",
      "635/635 [==============================] - 267s 420ms/step - loss: 0.0448 - accuracy: 0.9866 - val_loss: 0.4575 - val_accuracy: 0.8601\n",
      "Epoch 7/10\n",
      "635/635 [==============================] - 267s 421ms/step - loss: 0.0358 - accuracy: 0.9902 - val_loss: 0.5579 - val_accuracy: 0.8598\n",
      "Epoch 8/10\n",
      "635/635 [==============================] - 263s 414ms/step - loss: 0.0194 - accuracy: 0.9948 - val_loss: 0.6309 - val_accuracy: 0.8579\n",
      "Epoch 9/10\n",
      "635/635 [==============================] - 258s 406ms/step - loss: 0.0374 - accuracy: 0.9891 - val_loss: 0.6907 - val_accuracy: 0.8494\n",
      "Epoch 10/10\n",
      "635/635 [==============================] - 257s 404ms/step - loss: 0.0476 - accuracy: 0.9844 - val_loss: 0.5309 - val_accuracy: 0.8544\n"
     ]
    }
   ],
   "source": [
    "history = model.fit(X_train,y_train , epochs=10, batch_size=50, validation_split=0.2)"
   ]
  },
  {
   "cell_type": "code",
   "execution_count": 47,
   "id": "121df39d-68db-4eb9-b0ee-af268023c0cd",
   "metadata": {},
   "outputs": [
    {
     "data": {
      "image/png": "[encoded data removed]",
      "text/plain": [
       "<Figure size 640x480 with 1 Axes>"
      ]
     },
     "metadata": {},
     "output_type": "display_data"
    },
    {
     "data": {
      "image/png": "[encoded data removed]",
      "text/plain": [
       "<Figure size 640x480 with 1 Axes>"
      ]
     },
     "metadata": {},
     "output_type": "display_data"
    }
   ],
   "source": [
    "import matplotlib.pyplot as plt\n",
    "\n",
    "plt.plot(history.history['accuracy'])\n",
    "plt.plot(history.history['val_accuracy'])\n",
    "\n",
    "plt.title('model accuracy')\n",
    "plt.ylabel('accuracy')\n",
    "plt.xlabel('epoch')\n",
    "plt.legend(['train','test'], loc='upper left')\n",
    "plt.show()\n",
    "\n",
    "plt.plot(history.history['loss'])\n",
    "plt.plot(history.history['val_loss'])\n",
    "\n",
    "plt.title('model loss')\n",
    "plt.ylabel('loss')\n",
    "plt.xlabel('epoch')\n",
    "plt.legend(['train','test'], loc='upper left')\n",
    "plt.show()"
   ]
  },
  {
   "cell_type": "code",
   "execution_count": 53,
   "id": "538e932f-ee2b-49a7-b2ca-70a54344e066",
   "metadata": {},
   "outputs": [
    {
     "name": "stdout",
     "output_type": "stream",
     "text": [
      "1240/1240 [==============================] - 49s 40ms/step - loss: 0.1202 - accuracy: 0.9660\n",
      "Loss: 0.120229572057724\n",
      "Accuracy: 0.9660136699676514\n",
      "1240/1240 [==============================] - 51s 41ms/step\n",
      "Accuracy: 0.9660136651287093\n",
      "Classification Report:\n",
      "               precision    recall  f1-score   support\n",
      "\n",
      "           0       0.96      0.97      0.97     19714\n",
      "           1       0.97      0.96      0.97     19949\n",
      "\n",
      "    accuracy                           0.97     39663\n",
      "   macro avg       0.97      0.97      0.97     39663\n",
      "weighted avg       0.97      0.97      0.97     39663\n",
      "\n"
     ]
    }
   ],
   "source": [
    "from sklearn.metrics import classification_report, accuracy_score\n",
    "\n",
    "# Evaluate the model\n",
    "score = model.evaluate(X_train, y_train, verbose=1)\n",
    "loss = score[0]\n",
    "accuracy = score[1]\n",
    "\n",
    "print(\"Loss:\", loss)\n",
    "print(\"Accuracy:\", accuracy)\n",
    "\n",
    "# Predict classes\n",
    "y_pred_prob = model.predict(X_train)\n",
    "y_pred = (y_pred_prob > 0.5).astype(int)\n",
    "\n",
    "# Calculate accuracy\n",
    "accuracy = accuracy_score(y_train, y_pred)\n",
    "print(\"Accuracy:\", accuracy)\n",
    "\n",
    "# Calculate other metrics\n",
    "classification_rep = classification_report(y_train, y_pred)\n",
    "print(\"Classification Report:\\n\", classification_rep)\n"
   ]
  }
 ],
 "metadata": {
  "kernelspec": {
   "display_name": "Python 3 (ipykernel)",
   "language": "python",
   "name": "python3"
  },
  "language_info": {
   "codemirror_mode": {
    "name": "ipython",
    "version": 3
   },
   "file_extension": ".py",
   "mimetype": "text/x-python",
   "name": "python",
   "nbconvert_exporter": "python",
   "pygments_lexer": "ipython3",
   "version": "3.11.5"
  }
 },
 "nbformat": 4,
 "nbformat_minor": 5
}
